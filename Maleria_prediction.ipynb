{
 "cells": [
  {
   "cell_type": "code",
   "execution_count": null,
   "metadata": {
    "colab": {
     "base_uri": "https://localhost:8080/",
     "height": 1000
    },
    "id": "xGy10r4v37Gw",
    "outputId": "e5b7d8d5-6f85-4499-b790-2748879eeb1c"
   },
   "outputs": [
    {
     "name": "stdout",
     "output_type": "stream",
     "text": [
      "Collecting tensorflow==2.1.0\n",
      "\u001b[?25l  Downloading https://files.pythonhosted.org/packages/85/d4/c0cd1057b331bc38b65478302114194bd8e1b9c2bbc06e300935c0e93d90/tensorflow-2.1.0-cp36-cp36m-manylinux2010_x86_64.whl (421.8MB)\n",
      "\u001b[K     |████████████████████████████████| 421.8MB 19kB/s \n",
      "\u001b[?25hRequirement already satisfied: absl-py>=0.7.0 in /usr/local/lib/python3.6/dist-packages (from tensorflow==2.1.0) (0.10.0)\n",
      "Requirement already satisfied: termcolor>=1.1.0 in /usr/local/lib/python3.6/dist-packages (from tensorflow==2.1.0) (1.1.0)\n",
      "Requirement already satisfied: six>=1.12.0 in /usr/local/lib/python3.6/dist-packages (from tensorflow==2.1.0) (1.15.0)\n",
      "Requirement already satisfied: scipy==1.4.1; python_version >= \"3\" in /usr/local/lib/python3.6/dist-packages (from tensorflow==2.1.0) (1.4.1)\n",
      "Requirement already satisfied: wrapt>=1.11.1 in /usr/local/lib/python3.6/dist-packages (from tensorflow==2.1.0) (1.12.1)\n",
      "Requirement already satisfied: grpcio>=1.8.6 in /usr/local/lib/python3.6/dist-packages (from tensorflow==2.1.0) (1.32.0)\n",
      "Collecting tensorflow-estimator<2.2.0,>=2.1.0rc0\n",
      "\u001b[?25l  Downloading https://files.pythonhosted.org/packages/18/90/b77c328a1304437ab1310b463e533fa7689f4bfc41549593056d812fab8e/tensorflow_estimator-2.1.0-py2.py3-none-any.whl (448kB)\n",
      "\u001b[K     |████████████████████████████████| 450kB 52.2MB/s \n",
      "\u001b[?25hRequirement already satisfied: wheel>=0.26; python_version >= \"3\" in /usr/local/lib/python3.6/dist-packages (from tensorflow==2.1.0) (0.35.1)\n",
      "Requirement already satisfied: numpy<2.0,>=1.16.0 in /usr/local/lib/python3.6/dist-packages (from tensorflow==2.1.0) (1.18.5)\n",
      "Collecting tensorboard<2.2.0,>=2.1.0\n",
      "\u001b[?25l  Downloading https://files.pythonhosted.org/packages/d9/41/bbf49b61370e4f4d245d4c6051dfb6db80cec672605c91b1652ac8cc3d38/tensorboard-2.1.1-py3-none-any.whl (3.8MB)\n",
      "\u001b[K     |████████████████████████████████| 3.9MB 52.3MB/s \n",
      "\u001b[?25hRequirement already satisfied: protobuf>=3.8.0 in /usr/local/lib/python3.6/dist-packages (from tensorflow==2.1.0) (3.12.4)\n",
      "Requirement already satisfied: opt-einsum>=2.3.2 in /usr/local/lib/python3.6/dist-packages (from tensorflow==2.1.0) (3.3.0)\n",
      "Requirement already satisfied: astor>=0.6.0 in /usr/local/lib/python3.6/dist-packages (from tensorflow==2.1.0) (0.8.1)\n",
      "Collecting keras-applications>=1.0.8\n",
      "\u001b[?25l  Downloading https://files.pythonhosted.org/packages/71/e3/19762fdfc62877ae9102edf6342d71b28fbfd9dea3d2f96a882ce099b03f/Keras_Applications-1.0.8-py3-none-any.whl (50kB)\n",
      "\u001b[K     |████████████████████████████████| 51kB 8.7MB/s \n",
      "\u001b[?25hRequirement already satisfied: keras-preprocessing>=1.1.0 in /usr/local/lib/python3.6/dist-packages (from tensorflow==2.1.0) (1.1.2)\n",
      "Collecting gast==0.2.2\n",
      "  Downloading https://files.pythonhosted.org/packages/4e/35/11749bf99b2d4e3cceb4d55ca22590b0d7c2c62b9de38ac4a4a7f4687421/gast-0.2.2.tar.gz\n",
      "Requirement already satisfied: google-pasta>=0.1.6 in /usr/local/lib/python3.6/dist-packages (from tensorflow==2.1.0) (0.2.0)\n",
      "Requirement already satisfied: google-auth-oauthlib<0.5,>=0.4.1 in /usr/local/lib/python3.6/dist-packages (from tensorboard<2.2.0,>=2.1.0->tensorflow==2.1.0) (0.4.1)\n",
      "Requirement already satisfied: markdown>=2.6.8 in /usr/local/lib/python3.6/dist-packages (from tensorboard<2.2.0,>=2.1.0->tensorflow==2.1.0) (3.2.2)\n",
      "Requirement already satisfied: werkzeug>=0.11.15 in /usr/local/lib/python3.6/dist-packages (from tensorboard<2.2.0,>=2.1.0->tensorflow==2.1.0) (1.0.1)\n",
      "Requirement already satisfied: requests<3,>=2.21.0 in /usr/local/lib/python3.6/dist-packages (from tensorboard<2.2.0,>=2.1.0->tensorflow==2.1.0) (2.23.0)\n",
      "Requirement already satisfied: setuptools>=41.0.0 in /usr/local/lib/python3.6/dist-packages (from tensorboard<2.2.0,>=2.1.0->tensorflow==2.1.0) (50.3.0)\n",
      "Requirement already satisfied: google-auth<2,>=1.6.3 in /usr/local/lib/python3.6/dist-packages (from tensorboard<2.2.0,>=2.1.0->tensorflow==2.1.0) (1.17.2)\n",
      "Requirement already satisfied: h5py in /usr/local/lib/python3.6/dist-packages (from keras-applications>=1.0.8->tensorflow==2.1.0) (2.10.0)\n",
      "Requirement already satisfied: requests-oauthlib>=0.7.0 in /usr/local/lib/python3.6/dist-packages (from google-auth-oauthlib<0.5,>=0.4.1->tensorboard<2.2.0,>=2.1.0->tensorflow==2.1.0) (1.3.0)\n",
      "Requirement already satisfied: importlib-metadata; python_version < \"3.8\" in /usr/local/lib/python3.6/dist-packages (from markdown>=2.6.8->tensorboard<2.2.0,>=2.1.0->tensorflow==2.1.0) (2.0.0)\n",
      "Requirement already satisfied: idna<3,>=2.5 in /usr/local/lib/python3.6/dist-packages (from requests<3,>=2.21.0->tensorboard<2.2.0,>=2.1.0->tensorflow==2.1.0) (2.10)\n",
      "Requirement already satisfied: chardet<4,>=3.0.2 in /usr/local/lib/python3.6/dist-packages (from requests<3,>=2.21.0->tensorboard<2.2.0,>=2.1.0->tensorflow==2.1.0) (3.0.4)\n",
      "Requirement already satisfied: urllib3!=1.25.0,!=1.25.1,<1.26,>=1.21.1 in /usr/local/lib/python3.6/dist-packages (from requests<3,>=2.21.0->tensorboard<2.2.0,>=2.1.0->tensorflow==2.1.0) (1.24.3)\n",
      "Requirement already satisfied: certifi>=2017.4.17 in /usr/local/lib/python3.6/dist-packages (from requests<3,>=2.21.0->tensorboard<2.2.0,>=2.1.0->tensorflow==2.1.0) (2020.6.20)\n",
      "Requirement already satisfied: pyasn1-modules>=0.2.1 in /usr/local/lib/python3.6/dist-packages (from google-auth<2,>=1.6.3->tensorboard<2.2.0,>=2.1.0->tensorflow==2.1.0) (0.2.8)\n",
      "Requirement already satisfied: cachetools<5.0,>=2.0.0 in /usr/local/lib/python3.6/dist-packages (from google-auth<2,>=1.6.3->tensorboard<2.2.0,>=2.1.0->tensorflow==2.1.0) (4.1.1)\n",
      "Requirement already satisfied: rsa<5,>=3.1.4; python_version >= \"3\" in /usr/local/lib/python3.6/dist-packages (from google-auth<2,>=1.6.3->tensorboard<2.2.0,>=2.1.0->tensorflow==2.1.0) (4.6)\n",
      "Requirement already satisfied: oauthlib>=3.0.0 in /usr/local/lib/python3.6/dist-packages (from requests-oauthlib>=0.7.0->google-auth-oauthlib<0.5,>=0.4.1->tensorboard<2.2.0,>=2.1.0->tensorflow==2.1.0) (3.1.0)\n",
      "Requirement already satisfied: zipp>=0.5 in /usr/local/lib/python3.6/dist-packages (from importlib-metadata; python_version < \"3.8\"->markdown>=2.6.8->tensorboard<2.2.0,>=2.1.0->tensorflow==2.1.0) (3.2.0)\n",
      "Requirement already satisfied: pyasn1<0.5.0,>=0.4.6 in /usr/local/lib/python3.6/dist-packages (from pyasn1-modules>=0.2.1->google-auth<2,>=1.6.3->tensorboard<2.2.0,>=2.1.0->tensorflow==2.1.0) (0.4.8)\n",
      "Building wheels for collected packages: gast\n",
      "  Building wheel for gast (setup.py) ... \u001b[?25l\u001b[?25hdone\n",
      "  Created wheel for gast: filename=gast-0.2.2-cp36-none-any.whl size=7542 sha256=0947d083cd21f4a59b552c513061c09c363a7711ce7f3e7671c5601a745ce230\n",
      "  Stored in directory: /root/.cache/pip/wheels/5c/2e/7e/a1d4d4fcebe6c381f378ce7743a3ced3699feb89bcfbdadadd\n",
      "Successfully built gast\n",
      "\u001b[31mERROR: tensorflow-probability 0.11.0 has requirement gast>=0.3.2, but you'll have gast 0.2.2 which is incompatible.\u001b[0m\n",
      "Installing collected packages: tensorflow-estimator, tensorboard, keras-applications, gast, tensorflow\n",
      "  Found existing installation: tensorflow-estimator 2.3.0\n",
      "    Uninstalling tensorflow-estimator-2.3.0:\n",
      "      Successfully uninstalled tensorflow-estimator-2.3.0\n",
      "  Found existing installation: tensorboard 2.3.0\n",
      "    Uninstalling tensorboard-2.3.0:\n",
      "      Successfully uninstalled tensorboard-2.3.0\n",
      "  Found existing installation: gast 0.3.3\n",
      "    Uninstalling gast-0.3.3:\n",
      "      Successfully uninstalled gast-0.3.3\n",
      "  Found existing installation: tensorflow 2.3.0\n",
      "    Uninstalling tensorflow-2.3.0:\n",
      "      Successfully uninstalled tensorflow-2.3.0\n",
      "Successfully installed gast-0.2.2 keras-applications-1.0.8 tensorboard-2.1.1 tensorflow-2.1.0 tensorflow-estimator-2.1.0\n"
     ]
    }
   ],
   "source": [
    "pip install tensorflow==2.1.0"
   ]
  },
  {
   "cell_type": "code",
   "execution_count": null,
   "metadata": {
    "colab": {
     "base_uri": "https://localhost:8080/",
     "height": 35
    },
    "id": "T9oXIlDl4JSA",
    "outputId": "2dbaccbd-caa4-48df-d4d1-2eaaa5399d03"
   },
   "outputs": [
    {
     "data": {
      "application/vnd.google.colaboratory.intrinsic+json": {
       "type": "string"
      },
      "text/plain": [
       "'2.1.0'"
      ]
     },
     "execution_count": 4,
     "metadata": {
      "tags": []
     },
     "output_type": "execute_result"
    }
   ],
   "source": [
    "import tensorflow as tf\n",
    "tf.__version__"
   ]
  },
  {
   "cell_type": "code",
   "execution_count": 1,
   "metadata": {
    "colab": {
     "base_uri": "https://localhost:8080/",
     "height": 34
    },
    "id": "AGa3OGH-VPfI",
    "outputId": "dc2a5917-67e6-4d18-d882-3c3ff3590149"
   },
   "outputs": [
    {
     "name": "stdout",
     "output_type": "stream",
     "text": [
      "process finished\n"
     ]
    }
   ],
   "source": [
    "from zipfile import ZipFile\n",
    "file=\"/content/drive/My Drive/Dataset.zip\"\n",
    "with ZipFile(file,'r') as zip:\n",
    "  zip.extractall()\n",
    "  print(\"process finished\")"
   ]
  },
  {
   "cell_type": "code",
   "execution_count": 2,
   "metadata": {
    "id": "eLhMk-R6Vy2n"
   },
   "outputs": [],
   "source": [
    "from tensorflow.keras.applications.vgg16 import VGG16,preprocess_input\n",
    "from tensorflow.keras.preprocessing.image import ImageDataGenerator,load_img,img_to_array\n",
    "from tensorflow.keras.layers import Dense,Flatten,Dropout\n",
    "from tensorflow.keras.callbacks import ModelCheckpoint\n",
    "from tensorflow.keras.models import Model"
   ]
  },
  {
   "cell_type": "code",
   "execution_count": null,
   "metadata": {
    "colab": {
     "base_uri": "https://localhost:8080/",
     "height": 71
    },
    "id": "JEqLCNx4XM9D",
    "outputId": "826f4478-f332-476e-80f8-ed4200be548f"
   },
   "outputs": [
    {
     "name": "stdout",
     "output_type": "stream",
     "text": [
      "Downloading data from https://github.com/fchollet/deep-learning-models/releases/download/v0.1/vgg16_weights_tf_dim_ordering_tf_kernels_notop.h5\n",
      "58892288/58889256 [==============================] - 2s 0us/step\n"
     ]
    }
   ],
   "source": [
    "vgg=VGG16(input_shape=[224,224,3],weights='imagenet',include_top=False)"
   ]
  },
  {
   "cell_type": "code",
   "execution_count": 10,
   "metadata": {
    "id": "G5uiUEb2XiD1"
   },
   "outputs": [],
   "source": [
    "train=\"Dataset/Train\"\n",
    "test=\"Dataset/Test\""
   ]
  },
  {
   "cell_type": "code",
   "execution_count": null,
   "metadata": {
    "id": "HKxqcEeRX5mF"
   },
   "outputs": [],
   "source": [
    "for layer in vgg.layers:\n",
    "  layer.trainable=False"
   ]
  },
  {
   "cell_type": "code",
   "execution_count": null,
   "metadata": {
    "id": "Bpgwq1jpYA2I"
   },
   "outputs": [],
   "source": [
    "x=Flatten()(vgg.output)\n",
    "l1=Dense(120,activation='relu')(x)\n",
    "out=Dense(2,activation='softmax')(l1)"
   ]
  },
  {
   "cell_type": "code",
   "execution_count": null,
   "metadata": {
    "id": "KMwEDbi4YY6r"
   },
   "outputs": [],
   "source": [
    "model=Model(inputs=vgg.input,outputs=out)"
   ]
  },
  {
   "cell_type": "code",
   "execution_count": null,
   "metadata": {
    "id": "HMaLdxAFYfIx"
   },
   "outputs": [],
   "source": [
    "model.compile(loss=\"categorical_crossentropy\",optimizer=\"adam\",metrics=['accuracy'])\n"
   ]
  },
  {
   "cell_type": "code",
   "execution_count": 11,
   "metadata": {
    "id": "UjDT78ERYoyG"
   },
   "outputs": [],
   "source": [
    "train_datagen=ImageDataGenerator(rescale=1./255,\n",
    "                                 shear_range=0.2,\n",
    "                                 zoom_range=0.2,\n",
    "                                 horizontal_flip=True)"
   ]
  },
  {
   "cell_type": "code",
   "execution_count": 12,
   "metadata": {
    "colab": {
     "base_uri": "https://localhost:8080/",
     "height": 34
    },
    "id": "uZY8Cl8DZB59",
    "outputId": "33fbb360-6d28-4e54-ab80-d90500448e55"
   },
   "outputs": [
    {
     "name": "stdout",
     "output_type": "stream",
     "text": [
      "Found 416 images belonging to 2 classes.\n"
     ]
    }
   ],
   "source": [
    "train_set=train_datagen.flow_from_directory(train,\n",
    "                                            target_size=(224,224),\n",
    "                                            batch_size=32,\n",
    "                                            class_mode=\"categorical\")"
   ]
  },
  {
   "cell_type": "code",
   "execution_count": 13,
   "metadata": {
    "colab": {
     "base_uri": "https://localhost:8080/",
     "height": 34
    },
    "id": "P71MjLsD3zx3",
    "outputId": "f53d46fb-4afe-45ca-8d7b-69bd5207bc11"
   },
   "outputs": [
    {
     "name": "stdout",
     "output_type": "stream",
     "text": [
      "Found 134 images belonging to 2 classes.\n"
     ]
    }
   ],
   "source": [
    "test_datagen=ImageDataGenerator(rescale=1./255)\n",
    "test_set=test_datagen.flow_from_directory(test,\n",
    "                                          target_size=(224,224),\n",
    "                                          batch_size=32,\n",
    "                                          shuffle=False,\n",
    "                                          class_mode=\"categorical\")"
   ]
  },
  {
   "cell_type": "code",
   "execution_count": 14,
   "metadata": {
    "colab": {
     "base_uri": "https://localhost:8080/",
     "height": 34
    },
    "id": "leyU5wDuZT6l",
    "outputId": "b8baef57-f51c-4849-a50f-7140063d02d8"
   },
   "outputs": [
    {
     "data": {
      "text/plain": [
       "{'Parasite': 0, 'Uninfected': 1}"
      ]
     },
     "execution_count": 14,
     "metadata": {},
     "output_type": "execute_result"
    }
   ],
   "source": [
    "train_set.class_indices"
   ]
  },
  {
   "cell_type": "code",
   "execution_count": null,
   "metadata": {
    "id": "6gpAA7-CclIQ"
   },
   "outputs": [],
   "source": [
    "checkpoints=ModelCheckpoint(\"/content/drive/My Drive/maleria-model-{epoch}.h5\",monitor='val_accuracy',verbose=1,save_best_only=True,model='Max')\n",
    "callbacks_list=[checkpoints]"
   ]
  },
  {
   "cell_type": "code",
   "execution_count": null,
   "metadata": {
    "colab": {
     "base_uri": "https://localhost:8080/",
     "height": 1000
    },
    "id": "wYI2CImfZu84",
    "outputId": "308ff0ec-2d3e-42be-a2a8-42ee69cb9152"
   },
   "outputs": [
    {
     "name": "stdout",
     "output_type": "stream",
     "text": [
      "WARNING:tensorflow:sample_weight modes were coerced from\n",
      "  ...\n",
      "    to  \n",
      "  ['...']\n",
      "WARNING:tensorflow:sample_weight modes were coerced from\n",
      "  ...\n",
      "    to  \n",
      "  ['...']\n",
      "Train for 13 steps, validate for 5 steps\n",
      "Epoch 1/50\n",
      "12/13 [==========================>...] - ETA: 1s - loss: 0.9485 - accuracy: 0.6380\n",
      "Epoch 00001: val_accuracy improved from -inf to 0.55224, saving model to /content/drive/My Drive/maleria-model-1.h5\n",
      "13/13 [==============================] - 16s 1s/step - loss: 0.9244 - accuracy: 0.6346 - val_loss: 0.7438 - val_accuracy: 0.5522\n",
      "Epoch 2/50\n",
      "12/13 [==========================>...] - ETA: 0s - loss: 0.4254 - accuracy: 0.8125\n",
      "Epoch 00002: val_accuracy improved from 0.55224 to 0.72388, saving model to /content/drive/My Drive/maleria-model-2.h5\n",
      "13/13 [==============================] - 6s 476ms/step - loss: 0.4235 - accuracy: 0.8101 - val_loss: 0.4161 - val_accuracy: 0.7239\n",
      "Epoch 3/50\n",
      "12/13 [==========================>...] - ETA: 0s - loss: 0.3375 - accuracy: 0.8594\n",
      "Epoch 00003: val_accuracy improved from 0.72388 to 0.79104, saving model to /content/drive/My Drive/maleria-model-3.h5\n",
      "13/13 [==============================] - 6s 498ms/step - loss: 0.3350 - accuracy: 0.8606 - val_loss: 0.3599 - val_accuracy: 0.7910\n",
      "Epoch 4/50\n",
      "12/13 [==========================>...] - ETA: 0s - loss: 0.2893 - accuracy: 0.8932\n",
      "Epoch 00004: val_accuracy improved from 0.79104 to 0.85821, saving model to /content/drive/My Drive/maleria-model-4.h5\n",
      "13/13 [==============================] - 6s 474ms/step - loss: 0.2920 - accuracy: 0.8870 - val_loss: 0.3117 - val_accuracy: 0.8582\n",
      "Epoch 5/50\n",
      "12/13 [==========================>...] - ETA: 0s - loss: 0.2704 - accuracy: 0.8880\n",
      "Epoch 00005: val_accuracy improved from 0.85821 to 0.88806, saving model to /content/drive/My Drive/maleria-model-5.h5\n",
      "13/13 [==============================] - 7s 504ms/step - loss: 0.2704 - accuracy: 0.8918 - val_loss: 0.2796 - val_accuracy: 0.8881\n",
      "Epoch 6/50\n",
      "12/13 [==========================>...] - ETA: 0s - loss: 0.1981 - accuracy: 0.9167\n",
      "Epoch 00006: val_accuracy did not improve from 0.88806\n",
      "13/13 [==============================] - 6s 449ms/step - loss: 0.2003 - accuracy: 0.9183 - val_loss: 0.2857 - val_accuracy: 0.8806\n",
      "Epoch 7/50\n",
      "12/13 [==========================>...] - ETA: 0s - loss: 0.1725 - accuracy: 0.9427\n",
      "Epoch 00007: val_accuracy did not improve from 0.88806\n",
      "13/13 [==============================] - 6s 459ms/step - loss: 0.1691 - accuracy: 0.9471 - val_loss: 0.2688 - val_accuracy: 0.8657\n",
      "Epoch 8/50\n",
      "12/13 [==========================>...] - ETA: 0s - loss: 0.1684 - accuracy: 0.9245\n",
      "Epoch 00008: val_accuracy did not improve from 0.88806\n",
      "13/13 [==============================] - 6s 440ms/step - loss: 0.1682 - accuracy: 0.9255 - val_loss: 0.2878 - val_accuracy: 0.8806\n",
      "Epoch 9/50\n",
      "12/13 [==========================>...] - ETA: 0s - loss: 0.1585 - accuracy: 0.9583\n",
      "Epoch 00009: val_accuracy did not improve from 0.88806\n",
      "13/13 [==============================] - 6s 442ms/step - loss: 0.1634 - accuracy: 0.9567 - val_loss: 0.3079 - val_accuracy: 0.8806\n",
      "Epoch 10/50\n",
      "12/13 [==========================>...] - ETA: 0s - loss: 0.1761 - accuracy: 0.9323\n",
      "Epoch 00010: val_accuracy did not improve from 0.88806\n",
      "13/13 [==============================] - 6s 442ms/step - loss: 0.1689 - accuracy: 0.9375 - val_loss: 0.2777 - val_accuracy: 0.8731\n",
      "Epoch 11/50\n",
      "12/13 [==========================>...] - ETA: 0s - loss: 0.1412 - accuracy: 0.9427\n",
      "Epoch 00011: val_accuracy improved from 0.88806 to 0.93284, saving model to /content/drive/My Drive/maleria-model-11.h5\n",
      "13/13 [==============================] - 6s 469ms/step - loss: 0.1435 - accuracy: 0.9447 - val_loss: 0.1836 - val_accuracy: 0.9328\n",
      "Epoch 12/50\n",
      "12/13 [==========================>...] - ETA: 0s - loss: 0.1738 - accuracy: 0.9245\n",
      "Epoch 00012: val_accuracy did not improve from 0.93284\n",
      "13/13 [==============================] - 6s 455ms/step - loss: 0.1838 - accuracy: 0.9159 - val_loss: 0.1859 - val_accuracy: 0.8881\n",
      "Epoch 13/50\n",
      "12/13 [==========================>...] - ETA: 0s - loss: 0.1266 - accuracy: 0.9505\n",
      "Epoch 00013: val_accuracy improved from 0.93284 to 0.94776, saving model to /content/drive/My Drive/maleria-model-13.h5\n",
      "13/13 [==============================] - 6s 483ms/step - loss: 0.1222 - accuracy: 0.9543 - val_loss: 0.1734 - val_accuracy: 0.9478\n",
      "Epoch 14/50\n",
      "12/13 [==========================>...] - ETA: 0s - loss: 0.1145 - accuracy: 0.9583\n",
      "Epoch 00014: val_accuracy did not improve from 0.94776\n",
      "13/13 [==============================] - 6s 441ms/step - loss: 0.1097 - accuracy: 0.9591 - val_loss: 0.1803 - val_accuracy: 0.9403\n",
      "Epoch 15/50\n",
      "12/13 [==========================>...] - ETA: 0s - loss: 0.0929 - accuracy: 0.9661\n",
      "Epoch 00015: val_accuracy improved from 0.94776 to 0.95522, saving model to /content/drive/My Drive/maleria-model-15.h5\n",
      "13/13 [==============================] - 6s 492ms/step - loss: 0.0914 - accuracy: 0.9688 - val_loss: 0.1582 - val_accuracy: 0.9552\n",
      "Epoch 16/50\n",
      "12/13 [==========================>...] - ETA: 0s - loss: 0.0939 - accuracy: 0.9688\n",
      "Epoch 00016: val_accuracy did not improve from 0.95522\n",
      "13/13 [==============================] - 6s 442ms/step - loss: 0.0905 - accuracy: 0.9712 - val_loss: 0.2747 - val_accuracy: 0.8955\n",
      "Epoch 17/50\n",
      "12/13 [==========================>...] - ETA: 0s - loss: 0.1190 - accuracy: 0.9557\n",
      "Epoch 00017: val_accuracy did not improve from 0.95522\n",
      "13/13 [==============================] - 6s 451ms/step - loss: 0.1225 - accuracy: 0.9543 - val_loss: 0.2054 - val_accuracy: 0.9104\n",
      "Epoch 18/50\n",
      "12/13 [==========================>...] - ETA: 0s - loss: 0.0957 - accuracy: 0.9740\n",
      "Epoch 00018: val_accuracy did not improve from 0.95522\n",
      "13/13 [==============================] - 6s 442ms/step - loss: 0.1063 - accuracy: 0.9688 - val_loss: 0.1855 - val_accuracy: 0.9328\n",
      "Epoch 19/50\n",
      "12/13 [==========================>...] - ETA: 0s - loss: 0.1034 - accuracy: 0.9635\n",
      "Epoch 00019: val_accuracy did not improve from 0.95522\n",
      "13/13 [==============================] - 6s 438ms/step - loss: 0.1043 - accuracy: 0.9639 - val_loss: 0.7143 - val_accuracy: 0.7687\n",
      "Epoch 20/50\n",
      "12/13 [==========================>...] - ETA: 0s - loss: 0.1008 - accuracy: 0.9557\n",
      "Epoch 00020: val_accuracy did not improve from 0.95522\n",
      "13/13 [==============================] - 6s 439ms/step - loss: 0.1056 - accuracy: 0.9543 - val_loss: 0.1721 - val_accuracy: 0.9328\n",
      "Epoch 21/50\n",
      "12/13 [==========================>...] - ETA: 0s - loss: 0.0710 - accuracy: 0.9766\n",
      "Epoch 00021: val_accuracy did not improve from 0.95522\n",
      "13/13 [==============================] - 6s 443ms/step - loss: 0.0737 - accuracy: 0.9760 - val_loss: 0.3380 - val_accuracy: 0.8731\n",
      "Epoch 22/50\n",
      "12/13 [==========================>...] - ETA: 0s - loss: 0.0619 - accuracy: 0.9818\n",
      "Epoch 00022: val_accuracy did not improve from 0.95522\n",
      "13/13 [==============================] - 6s 437ms/step - loss: 0.0640 - accuracy: 0.9808 - val_loss: 0.1854 - val_accuracy: 0.9179\n",
      "Epoch 23/50\n",
      "12/13 [==========================>...] - ETA: 0s - loss: 0.1387 - accuracy: 0.9323\n",
      "Epoch 00023: val_accuracy did not improve from 0.95522\n",
      "13/13 [==============================] - 6s 436ms/step - loss: 0.1300 - accuracy: 0.9375 - val_loss: 0.2069 - val_accuracy: 0.8806\n",
      "Epoch 24/50\n",
      "12/13 [==========================>...] - ETA: 0s - loss: 0.1151 - accuracy: 0.9609\n",
      "Epoch 00024: val_accuracy did not improve from 0.95522\n",
      "13/13 [==============================] - 6s 436ms/step - loss: 0.1087 - accuracy: 0.9639 - val_loss: 0.8803 - val_accuracy: 0.7388\n",
      "Epoch 25/50\n",
      "12/13 [==========================>...] - ETA: 0s - loss: 0.1339 - accuracy: 0.9479\n",
      "Epoch 00025: val_accuracy did not improve from 0.95522\n",
      "13/13 [==============================] - 6s 442ms/step - loss: 0.1255 - accuracy: 0.9519 - val_loss: 0.1209 - val_accuracy: 0.9254\n",
      "Epoch 26/50\n",
      "12/13 [==========================>...] - ETA: 0s - loss: 0.1186 - accuracy: 0.9531\n",
      "Epoch 00026: val_accuracy did not improve from 0.95522\n",
      "13/13 [==============================] - 6s 447ms/step - loss: 0.1148 - accuracy: 0.9543 - val_loss: 0.1445 - val_accuracy: 0.9403\n",
      "Epoch 27/50\n",
      "12/13 [==========================>...] - ETA: 0s - loss: 0.1069 - accuracy: 0.9661\n",
      "Epoch 00027: val_accuracy did not improve from 0.95522\n",
      "13/13 [==============================] - 6s 441ms/step - loss: 0.1177 - accuracy: 0.9591 - val_loss: 0.3383 - val_accuracy: 0.8582\n",
      "Epoch 28/50\n",
      "12/13 [==========================>...] - ETA: 0s - loss: 0.0795 - accuracy: 0.9740\n",
      "Epoch 00028: val_accuracy did not improve from 0.95522\n",
      "13/13 [==============================] - 6s 441ms/step - loss: 0.0779 - accuracy: 0.9760 - val_loss: 0.1058 - val_accuracy: 0.9552\n",
      "Epoch 29/50\n",
      "12/13 [==========================>...] - ETA: 0s - loss: 0.0573 - accuracy: 0.9792\n",
      "Epoch 00029: val_accuracy did not improve from 0.95522\n",
      "13/13 [==============================] - 6s 437ms/step - loss: 0.0564 - accuracy: 0.9784 - val_loss: 0.1646 - val_accuracy: 0.9403\n",
      "Epoch 30/50\n",
      "12/13 [==========================>...] - ETA: 0s - loss: 0.0647 - accuracy: 0.9766\n",
      "Epoch 00030: val_accuracy did not improve from 0.95522\n",
      "13/13 [==============================] - 6s 440ms/step - loss: 0.0618 - accuracy: 0.9784 - val_loss: 0.1581 - val_accuracy: 0.9328\n",
      "Epoch 31/50\n",
      "12/13 [==========================>...] - ETA: 0s - loss: 0.0932 - accuracy: 0.9714\n",
      "Epoch 00031: val_accuracy did not improve from 0.95522\n",
      "13/13 [==============================] - 6s 442ms/step - loss: 0.0968 - accuracy: 0.9663 - val_loss: 0.6198 - val_accuracy: 0.8209\n",
      "Epoch 32/50\n",
      "12/13 [==========================>...] - ETA: 0s - loss: 0.1342 - accuracy: 0.9505\n",
      "Epoch 00032: val_accuracy improved from 0.95522 to 0.96269, saving model to /content/drive/My Drive/maleria-model-32.h5\n",
      "13/13 [==============================] - 6s 465ms/step - loss: 0.1279 - accuracy: 0.9543 - val_loss: 0.1196 - val_accuracy: 0.9627\n",
      "Epoch 33/50\n",
      "12/13 [==========================>...] - ETA: 0s - loss: 0.0500 - accuracy: 0.9844\n",
      "Epoch 00033: val_accuracy did not improve from 0.96269\n",
      "13/13 [==============================] - 6s 438ms/step - loss: 0.0530 - accuracy: 0.9832 - val_loss: 0.1396 - val_accuracy: 0.9552\n",
      "Epoch 34/50\n",
      "12/13 [==========================>...] - ETA: 0s - loss: 0.0369 - accuracy: 0.9896\n",
      "Epoch 00034: val_accuracy did not improve from 0.96269\n",
      "13/13 [==============================] - 6s 454ms/step - loss: 0.0347 - accuracy: 0.9904 - val_loss: 0.2510 - val_accuracy: 0.9104\n",
      "Epoch 35/50\n",
      "12/13 [==========================>...] - ETA: 0s - loss: 0.0564 - accuracy: 0.9766\n",
      "Epoch 00035: val_accuracy did not improve from 0.96269\n",
      "13/13 [==============================] - 6s 436ms/step - loss: 0.0564 - accuracy: 0.9760 - val_loss: 0.1978 - val_accuracy: 0.9179\n",
      "Epoch 36/50\n",
      "12/13 [==========================>...] - ETA: 0s - loss: 0.0405 - accuracy: 0.9870\n",
      "Epoch 00036: val_accuracy did not improve from 0.96269\n",
      "13/13 [==============================] - 6s 437ms/step - loss: 0.0402 - accuracy: 0.9880 - val_loss: 0.1173 - val_accuracy: 0.9627\n",
      "Epoch 37/50\n",
      "12/13 [==========================>...] - ETA: 0s - loss: 0.0318 - accuracy: 0.9948\n",
      "Epoch 00037: val_accuracy did not improve from 0.96269\n",
      "13/13 [==============================] - 6s 435ms/step - loss: 0.0311 - accuracy: 0.9952 - val_loss: 0.3226 - val_accuracy: 0.8955\n",
      "Epoch 38/50\n",
      "12/13 [==========================>...] - ETA: 0s - loss: 0.0360 - accuracy: 0.9896\n",
      "Epoch 00038: val_accuracy did not improve from 0.96269\n",
      "13/13 [==============================] - 6s 438ms/step - loss: 0.0345 - accuracy: 0.9904 - val_loss: 0.1449 - val_accuracy: 0.9627\n",
      "Epoch 39/50\n",
      "12/13 [==========================>...] - ETA: 0s - loss: 0.0392 - accuracy: 0.9922\n",
      "Epoch 00039: val_accuracy did not improve from 0.96269\n",
      "13/13 [==============================] - 6s 437ms/step - loss: 0.0413 - accuracy: 0.9904 - val_loss: 0.2740 - val_accuracy: 0.9104\n",
      "Epoch 40/50\n",
      "12/13 [==========================>...] - ETA: 0s - loss: 0.0434 - accuracy: 0.9844\n",
      "Epoch 00040: val_accuracy did not improve from 0.96269\n",
      "13/13 [==============================] - 6s 442ms/step - loss: 0.0430 - accuracy: 0.9856 - val_loss: 0.1347 - val_accuracy: 0.9552\n",
      "Epoch 41/50\n",
      "12/13 [==========================>...] - ETA: 0s - loss: 0.0503 - accuracy: 0.9792\n",
      "Epoch 00041: val_accuracy did not improve from 0.96269\n",
      "13/13 [==============================] - 6s 443ms/step - loss: 0.0473 - accuracy: 0.9808 - val_loss: 0.2308 - val_accuracy: 0.9104\n",
      "Epoch 42/50\n",
      "12/13 [==========================>...] - ETA: 0s - loss: 0.0264 - accuracy: 0.9948\n",
      "Epoch 00042: val_accuracy did not improve from 0.96269\n",
      "13/13 [==============================] - 6s 441ms/step - loss: 0.0281 - accuracy: 0.9928 - val_loss: 0.2745 - val_accuracy: 0.9030\n",
      "Epoch 43/50\n",
      "12/13 [==========================>...] - ETA: 0s - loss: 0.0471 - accuracy: 0.9844\n",
      "Epoch 00043: val_accuracy improved from 0.96269 to 0.97015, saving model to /content/drive/My Drive/maleria-model-43.h5\n",
      "13/13 [==============================] - 6s 462ms/step - loss: 0.0498 - accuracy: 0.9832 - val_loss: 0.0966 - val_accuracy: 0.9701\n",
      "Epoch 44/50\n",
      "12/13 [==========================>...] - ETA: 0s - loss: 0.0278 - accuracy: 0.9896\n",
      "Epoch 00044: val_accuracy did not improve from 0.97015\n",
      "13/13 [==============================] - 6s 441ms/step - loss: 0.0341 - accuracy: 0.9832 - val_loss: 0.1151 - val_accuracy: 0.9478\n",
      "Epoch 45/50\n",
      "12/13 [==========================>...] - ETA: 0s - loss: 0.0620 - accuracy: 0.9792\n",
      "Epoch 00045: val_accuracy did not improve from 0.97015\n",
      "13/13 [==============================] - 6s 445ms/step - loss: 0.0682 - accuracy: 0.9760 - val_loss: 0.6524 - val_accuracy: 0.8358\n",
      "Epoch 46/50\n",
      "12/13 [==========================>...] - ETA: 0s - loss: 0.0604 - accuracy: 0.9792\n",
      "Epoch 00046: val_accuracy did not improve from 0.97015\n",
      "13/13 [==============================] - 6s 446ms/step - loss: 0.0591 - accuracy: 0.9808 - val_loss: 0.1869 - val_accuracy: 0.9403\n",
      "Epoch 47/50\n",
      "12/13 [==========================>...] - ETA: 0s - loss: 0.0248 - accuracy: 0.9896\n",
      "Epoch 00047: val_accuracy did not improve from 0.97015\n",
      "13/13 [==============================] - 6s 436ms/step - loss: 0.0251 - accuracy: 0.9880 - val_loss: 0.2480 - val_accuracy: 0.9179\n",
      "Epoch 48/50\n",
      "12/13 [==========================>...] - ETA: 0s - loss: 0.0423 - accuracy: 0.9792\n",
      "Epoch 00048: val_accuracy did not improve from 0.97015\n",
      "13/13 [==============================] - 6s 440ms/step - loss: 0.0403 - accuracy: 0.9808 - val_loss: 0.1165 - val_accuracy: 0.9627\n",
      "Epoch 49/50\n",
      "12/13 [==========================>...] - ETA: 0s - loss: 0.0281 - accuracy: 0.9948\n",
      "Epoch 00049: val_accuracy did not improve from 0.97015\n",
      "13/13 [==============================] - 6s 438ms/step - loss: 0.0274 - accuracy: 0.9952 - val_loss: 0.2017 - val_accuracy: 0.9254\n",
      "Epoch 50/50\n",
      "12/13 [==========================>...] - ETA: 0s - loss: 0.0378 - accuracy: 0.9870\n",
      "Epoch 00050: val_accuracy did not improve from 0.97015\n",
      "13/13 [==============================] - 6s 437ms/step - loss: 0.0369 - accuracy: 0.9880 - val_loss: 0.1282 - val_accuracy: 0.9552\n"
     ]
    }
   ],
   "source": [
    "history=model.fit(train_set,validation_data=test_set,epochs=50,steps_per_epoch=len(train_set),validation_steps=len(test_set),callbacks=callbacks_list)"
   ]
  },
  {
   "cell_type": "code",
   "execution_count": null,
   "metadata": {
    "colab": {
     "base_uri": "https://localhost:8080/",
     "height": 35
    },
    "id": "2hBNE5A_WGpx",
    "outputId": "2ed23f95-a367-49ae-8d09-e1a3c06df7ec"
   },
   "outputs": [
    {
     "data": {
      "application/vnd.google.colaboratory.intrinsic+json": {
       "type": "string"
      },
      "text/plain": [
       "'2.1.0'"
      ]
     },
     "execution_count": 39,
     "metadata": {
      "tags": []
     },
     "output_type": "execute_result"
    }
   ],
   "source": [
    "import tensorflow as tf\n",
    "tf.__version__"
   ]
  },
  {
   "cell_type": "code",
   "execution_count": 15,
   "metadata": {
    "id": "3pOL4ig4BYtV"
   },
   "outputs": [],
   "source": [
    "from tensorflow.keras.models import load_model\n",
    "import numpy as np\n",
    "model1=load_model(\"maleria-model-43.h5\")"
   ]
  },
  {
   "cell_type": "code",
   "execution_count": null,
   "metadata": {},
   "outputs": [
    {
     "name": "stdout",
     "output_type": "stream",
     "text": [
      "WARNING:tensorflow:From <ipython-input-16-ab955e18bba9>:1: Model.evaluate_generator (from tensorflow.python.keras.engine.training) is deprecated and will be removed in a future version.\n",
      "Instructions for updating:\n",
      "Please use Model.evaluate, which supports generators.\n",
      "WARNING:tensorflow:sample_weight modes were coerced from\n",
      "  ...\n",
      "    to  \n",
      "  ['...']\n"
     ]
    }
   ],
   "source": [
    "model1.evaluate_generator(train_set)"
   ]
  },
  {
   "cell_type": "code",
   "execution_count": 59,
   "metadata": {
    "colab": {
     "base_uri": "https://localhost:8080/",
     "height": 34
    },
    "id": "qI3ScuIRFOAa",
    "outputId": "ce249558-c2c9-4609-fbaa-323778d9e99c"
   },
   "outputs": [
    {
     "data": {
      "text/plain": [
       "[0.0912272110581398, 0.9701492786407471]"
      ]
     },
     "execution_count": 59,
     "metadata": {
      "tags": []
     },
     "output_type": "execute_result"
    }
   ],
   "source": [
    "model1.evaluate_generator(test_set)"
   ]
  },
  {
   "cell_type": "code",
   "execution_count": 63,
   "metadata": {
    "colab": {
     "base_uri": "https://localhost:8080/",
     "height": 34
    },
    "id": "wFSY-wTGSJSZ",
    "outputId": "d87c6671-1ffe-418a-d42a-53966a0f58a0"
   },
   "outputs": [
    {
     "data": {
      "text/plain": [
       "134"
      ]
     },
     "execution_count": 63,
     "metadata": {
      "tags": []
     },
     "output_type": "execute_result"
    }
   ],
   "source": [
    "filenames=test_set.filenames\n",
    "nb_samples=len(filenames)\n",
    "nb_samples"
   ]
  },
  {
   "cell_type": "code",
   "execution_count": 64,
   "metadata": {
    "colab": {
     "base_uri": "https://localhost:8080/",
     "height": 173
    },
    "id": "r80GYRg8NKbP",
    "outputId": "8dee5e9b-1c2b-4eb5-d0a1-d86f7f317260"
   },
   "outputs": [
    {
     "name": "stdout",
     "output_type": "stream",
     "text": [
      "WARNING:tensorflow:Your input ran out of data; interrupting training. Make sure that your dataset or generator can generate at least `steps_per_epoch * epochs` batches (in this case, 134 batches). You may need to use the repeat() function when building your dataset.\n"
     ]
    },
    {
     "data": {
      "text/plain": [
       "array([0, 0, 0, 0, 0, 0, 0, 0, 0, 0, 0, 0, 0, 1, 0, 0, 0, 0, 0, 0, 0, 0,\n",
       "       0, 0, 0, 0, 0, 0, 0, 0, 0, 0, 0, 0, 0, 1, 0, 1, 1, 0, 0, 0, 0, 0,\n",
       "       0, 0, 0, 0, 0, 0, 0, 0, 0, 0, 0, 0, 0, 0, 0, 0, 0, 0, 0, 0, 0, 0,\n",
       "       0, 0, 0, 0, 0, 0, 0, 0, 0, 0, 0, 0, 0, 0, 0, 0, 0, 0, 0, 0, 0, 0,\n",
       "       0, 0, 0, 1, 1, 1, 1, 1, 1, 1, 1, 1, 1, 1, 1, 1, 1, 1, 1, 1, 1, 1,\n",
       "       1, 1, 1, 1, 1, 1, 1, 1, 1, 1, 1, 1, 1, 1, 1, 1, 1, 1, 1, 1, 1, 1,\n",
       "       1, 1])"
      ]
     },
     "execution_count": 64,
     "metadata": {
      "tags": []
     },
     "output_type": "execute_result"
    }
   ],
   "source": [
    "pred=model1.predict_generator(test_set,nb_samples)\n",
    "prediction=np.argmax(pred,1)\n",
    "prediction"
   ]
  },
  {
   "cell_type": "code",
   "execution_count": 65,
   "metadata": {
    "colab": {
     "base_uri": "https://localhost:8080/",
     "height": 136
    },
    "id": "B2GY4KvzNsCm",
    "outputId": "4d8ad9bb-bf09-4796-8567-169a3d3d5b26"
   },
   "outputs": [
    {
     "data": {
      "text/plain": [
       "array([0, 0, 0, 0, 0, 0, 0, 0, 0, 0, 0, 0, 0, 0, 0, 0, 0, 0, 0, 0, 0, 0,\n",
       "       0, 0, 0, 0, 0, 0, 0, 0, 0, 0, 0, 0, 0, 0, 0, 0, 0, 0, 0, 0, 0, 0,\n",
       "       0, 0, 0, 0, 0, 0, 0, 0, 0, 0, 0, 0, 0, 0, 0, 0, 0, 0, 0, 0, 0, 0,\n",
       "       0, 0, 0, 0, 0, 0, 0, 0, 0, 0, 0, 0, 0, 0, 0, 0, 0, 0, 0, 0, 0, 0,\n",
       "       0, 0, 0, 1, 1, 1, 1, 1, 1, 1, 1, 1, 1, 1, 1, 1, 1, 1, 1, 1, 1, 1,\n",
       "       1, 1, 1, 1, 1, 1, 1, 1, 1, 1, 1, 1, 1, 1, 1, 1, 1, 1, 1, 1, 1, 1,\n",
       "       1, 1], dtype=int32)"
      ]
     },
     "execution_count": 65,
     "metadata": {
      "tags": []
     },
     "output_type": "execute_result"
    }
   ],
   "source": [
    "test_set.classes"
   ]
  },
  {
   "cell_type": "code",
   "execution_count": 66,
   "metadata": {
    "id": "Fb30LDcWNxjz"
   },
   "outputs": [],
   "source": [
    "from sklearn.metrics import confusion_matrix,classification_report"
   ]
  },
  {
   "cell_type": "code",
   "execution_count": 67,
   "metadata": {
    "colab": {
     "base_uri": "https://localhost:8080/",
     "height": 51
    },
    "id": "zEeHsJjxjkog",
    "outputId": "d356a70c-afdb-4ff9-8aa9-f6775db8a196"
   },
   "outputs": [
    {
     "data": {
      "text/plain": [
       "array([[87,  0],\n",
       "       [ 4, 43]])"
      ]
     },
     "execution_count": 67,
     "metadata": {
      "tags": []
     },
     "output_type": "execute_result"
    }
   ],
   "source": [
    "confusion_matrix(prediction,test_set.classes)"
   ]
  },
  {
   "cell_type": "code",
   "execution_count": 68,
   "metadata": {
    "colab": {
     "base_uri": "https://localhost:8080/",
     "height": 170
    },
    "id": "IzvveM8uOkbe",
    "outputId": "3dad6aab-9dfa-438e-838e-36766a61563c"
   },
   "outputs": [
    {
     "name": "stdout",
     "output_type": "stream",
     "text": [
      "              precision    recall  f1-score   support\n",
      "\n",
      "           0       0.96      1.00      0.98        87\n",
      "           1       1.00      0.91      0.96        47\n",
      "\n",
      "    accuracy                           0.97       134\n",
      "   macro avg       0.98      0.96      0.97       134\n",
      "weighted avg       0.97      0.97      0.97       134\n",
      "\n"
     ]
    }
   ],
   "source": [
    "print(classification_report(prediction,test_set.classes))"
   ]
  },
  {
   "cell_type": "markdown",
   "metadata": {},
   "source": [
    "# Predict single image"
   ]
  },
  {
   "cell_type": "code",
   "execution_count": null,
   "metadata": {
    "colab": {
     "base_uri": "https://localhost:8080/",
     "height": 34
    },
    "id": "2xayjKEGaBHL",
    "outputId": "3d597573-5d4d-4fa7-ddf0-c731b536432d"
   },
   "outputs": [
    {
     "data": {
      "text/plain": [
       "array([0])"
      ]
     },
     "execution_count": 53,
     "metadata": {
      "tags": []
     },
     "output_type": "execute_result"
    }
   ],
   "source": [
    "img=load_img(\"/content/Dataset/Test/Parasite/C39P4thinF_original_IMG_20150622_105554_cell_13.png\",target_size=(224,224))\n",
    "test_img=img_to_array(img)\n",
    "test_img=test_img/255\n",
    "test_img=np.expand_dims(test_img,0)\n",
    "pred=model1.predict(test_img)\n",
    "pred=np.argmax(pred,1)\n",
    "pred"
   ]
  },
  {
   "cell_type": "markdown",
   "metadata": {},
   "source": [
    "# Predict whole image"
   ]
  },
  {
   "cell_type": "code",
   "execution_count": 40,
   "metadata": {
    "colab": {
     "base_uri": "https://localhost:8080/",
     "height": 1000
    },
    "id": "WW9le_am7-og",
    "outputId": "6486489f-e76f-4401-896d-fd1350a63d01"
   },
   "outputs": [
    {
     "name": "stdout",
     "output_type": "stream",
     "text": [
      "[0]\n",
      "[0]\n",
      "[0]\n",
      "[0]\n",
      "[0]\n",
      "[0]\n",
      "[0]\n",
      "[0]\n",
      "[0]\n",
      "[0]\n",
      "[0]\n",
      "[0]\n",
      "[0]\n",
      "[0]\n",
      "[0]\n",
      "[0]\n",
      "[0]\n",
      "[0]\n",
      "[0]\n",
      "[0]\n",
      "[0]\n",
      "[0]\n",
      "[0]\n",
      "[0]\n",
      "[0]\n",
      "[0]\n",
      "[0]\n",
      "[0]\n",
      "[0]\n",
      "[1]\n",
      "[0]\n",
      "[0]\n",
      "[0]\n",
      "[0]\n",
      "[0]\n",
      "[0]\n",
      "[0]\n",
      "[0]\n",
      "[0]\n",
      "[0]\n",
      "[0]\n",
      "[0]\n",
      "[0]\n",
      "[0]\n",
      "[0]\n",
      "[0]\n",
      "[0]\n",
      "[0]\n",
      "[0]\n",
      "[0]\n",
      "[0]\n",
      "[0]\n",
      "[1]\n",
      "[0]\n",
      "[0]\n",
      "[0]\n",
      "[0]\n",
      "[0]\n",
      "[0]\n",
      "[0]\n",
      "[0]\n",
      "[0]\n",
      "[1]\n",
      "[0]\n",
      "[0]\n",
      "[0]\n",
      "[0]\n",
      "[0]\n",
      "[0]\n",
      "[0]\n",
      "[0]\n",
      "[1]\n",
      "[0]\n",
      "[0]\n",
      "[0]\n",
      "[0]\n",
      "[0]\n",
      "[0]\n",
      "[0]\n",
      "[0]\n",
      "[0]\n",
      "[0]\n",
      "[0]\n",
      "[0]\n",
      "[0]\n",
      "[0]\n",
      "[0]\n",
      "[0]\n",
      "[0]\n",
      "[0]\n",
      "[0]\n"
     ]
    }
   ],
   "source": [
    "import os\n",
    "for i in os.listdir(\"/content/Dataset/Test/Parasite\"):\n",
    "    s=os.path.join(\"/content/Dataset/Test/Parasite\",i)\n",
    "    img=load_img(s,target_size=(224,224))\n",
    "    test_img=img_to_array(img)\n",
    "    test_img=test_img/255\n",
    "    test_img=np.expand_dims(test_img,0)\n",
    "    # test_img=preprocess_input(test_img)\n",
    "    pred=model1.predict(test_img)\n",
    "    pred=np.argmax(pred,1)\n",
    "    print(pred)\n"
   ]
  }
 ],
 "metadata": {
  "accelerator": "GPU",
  "colab": {
   "name": "Maleria_prediction.ipynb",
   "provenance": []
  },
  "kernelspec": {
   "display_name": "Python 3",
   "language": "python",
   "name": "python3"
  },
  "language_info": {
   "codemirror_mode": {
    "name": "ipython",
    "version": 3
   },
   "file_extension": ".py",
   "mimetype": "text/x-python",
   "name": "python",
   "nbconvert_exporter": "python",
   "pygments_lexer": "ipython3",
   "version": "3.6.5"
  }
 },
 "nbformat": 4,
 "nbformat_minor": 1
}

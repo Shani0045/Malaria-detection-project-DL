{
 "cells": [
  {
   "cell_type": "code",
   "execution_count": 1,
   "metadata": {},
   "outputs": [
    {
     "name": "stdout",
     "output_type": "stream",
     "text": [
      " * Serving Flask app \"__main__\" (lazy loading)\n",
      " * Environment: production\n",
      "   WARNING: This is a development server. Do not use it in a production deployment.\n",
      "   Use a production WSGI server instead.\n",
      " * Debug mode: off\n"
     ]
    },
    {
     "name": "stderr",
     "output_type": "stream",
     "text": [
      " * Running on http://127.0.0.1:5000/ (Press CTRL+C to quit)\n",
      "127.0.0.1 - - [09/Oct/2020 12:08:01] \"\u001b[37mGET / HTTP/1.1\u001b[0m\" 200 -\n",
      "127.0.0.1 - - [09/Oct/2020 12:08:01] \"\u001b[37mGET /static/image/malaria.png HTTP/1.1\u001b[0m\" 200 -\n",
      "127.0.0.1 - - [09/Oct/2020 12:08:02] \"\u001b[33mGET /favicon.ico HTTP/1.1\u001b[0m\" 404 -\n",
      "127.0.0.1 - - [09/Oct/2020 12:08:15] \"\u001b[37mPOST / HTTP/1.1\u001b[0m\" 200 -\n",
      "127.0.0.1 - - [09/Oct/2020 12:08:16] \"\u001b[37mGET /static/image/C33P1thinF_IMG_20150619_115740a_cell_161.png HTTP/1.1\u001b[0m\" 200 -\n",
      "127.0.0.1 - - [09/Oct/2020 12:09:02] \"\u001b[37mPOST / HTTP/1.1\u001b[0m\" 200 -\n",
      "127.0.0.1 - - [09/Oct/2020 12:09:02] \"\u001b[37mGET /static/image/C33P1thinF_IMG_20150619_115740a_cell_162.png HTTP/1.1\u001b[0m\" 200 -\n"
     ]
    }
   ],
   "source": [
    "import numpy as np\n",
    "from tensorflow.keras.models import load_model\n",
    "from tensorflow.keras.preprocessing.image import load_img,img_to_array\n",
    "import os\n",
    "from flask import*\n",
    "app=Flask(__name__)\n",
    "UPLOAD_FOLDER=os.getcwd()+\"\\\\static\\\\image\\\\\"\n",
    "@app.route(\"/\",methods=[\"GET\",\"POST\"])\n",
    "def predict():\n",
    "    model=load_model(\"maleria-model-43.h5\")\n",
    "    if request.method==\"POST\":\n",
    "        image_file=request.files['inp']\n",
    "        \n",
    "        if image_file:\n",
    "            image_location=os.path.join(UPLOAD_FOLDER,image_file.filename)\n",
    "#             print(image_file.filename)\n",
    "            image_file.save(image_location)\n",
    "            img=load_img(image_location,target_size=(224,224))\n",
    "            test_img=img_to_array(img)\n",
    "            test_img=test_img/255\n",
    "            test_img=np.expand_dims(test_img,0)\n",
    "            pred=model.predict(test_img)\n",
    "            pred=np.argmax(pred,1)            \n",
    "            if pred[0]==0:\n",
    "                return render_template(\"maleria.html\",p=\"Predicted Output: Parasite\",img_loc=image_file.filename)\n",
    "            return render_template(\"maleria.html\",p=\"Predicted output: Uninfected\",img_loc=image_file.filename)\n",
    "    return render_template(\"maleria.html\",p=\"\")\n",
    "if __name__==\"__main__\":\n",
    "    app.run()"
   ]
  },
  {
   "cell_type": "code",
   "execution_count": null,
   "metadata": {},
   "outputs": [],
   "source": []
  }
 ],
 "metadata": {
  "kernelspec": {
   "display_name": "Python 3",
   "language": "python",
   "name": "python3"
  },
  "language_info": {
   "codemirror_mode": {
    "name": "ipython",
    "version": 3
   },
   "file_extension": ".py",
   "mimetype": "text/x-python",
   "name": "python",
   "nbconvert_exporter": "python",
   "pygments_lexer": "ipython3",
   "version": "3.6.5"
  }
 },
 "nbformat": 4,
 "nbformat_minor": 2
}
